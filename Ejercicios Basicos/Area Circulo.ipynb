{
 "cells": [
  {
   "cell_type": "code",
   "execution_count": 4,
   "id": "7db00c42",
   "metadata": {},
   "outputs": [
    {
     "name": "stdout",
     "output_type": "stream",
     "text": [
      "Ingrese el radio de su circunferencia: 20\n",
      "El area de su circunferencia es:  1256.6370614359173\n"
     ]
    }
   ],
   "source": [
    "import math\n",
    "radio = float (input ('Ingrese el radio de su circunferencia: '))\n",
    "pi = float (math.pi)\n",
    "area = float (pi * radio * radio)\n",
    "print ('El area de su circunferencia es: ', area )"
   ]
  },
  {
   "cell_type": "code",
   "execution_count": null,
   "id": "cb74434f",
   "metadata": {},
   "outputs": [],
   "source": []
  }
 ],
 "metadata": {
  "kernelspec": {
   "display_name": "Python 3 (ipykernel)",
   "language": "python",
   "name": "python3"
  },
  "language_info": {
   "codemirror_mode": {
    "name": "ipython",
    "version": 3
   },
   "file_extension": ".py",
   "mimetype": "text/x-python",
   "name": "python",
   "nbconvert_exporter": "python",
   "pygments_lexer": "ipython3",
   "version": "3.11.4"
  }
 },
 "nbformat": 4,
 "nbformat_minor": 5
}
