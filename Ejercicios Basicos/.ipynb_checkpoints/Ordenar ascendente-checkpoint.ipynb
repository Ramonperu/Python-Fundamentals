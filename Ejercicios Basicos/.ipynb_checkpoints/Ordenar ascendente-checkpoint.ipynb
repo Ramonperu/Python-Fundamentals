{
 "cells": [
  {
   "cell_type": "code",
   "execution_count": 2,
   "id": "83a07895",
   "metadata": {},
   "outputs": [
    {
     "name": "stdout",
     "output_type": "stream",
     "text": [
      "Lista ordenada de forma ascendente: [1, 2, 3, 5, 8, 9]\n"
     ]
    }
   ],
   "source": [
    "num = [5, 2, 8, 1, 9, 3]\n",
    "num.sort()\n",
    "print(\"Lista ordenada de forma ascendente:\", num)"
   ]
  },
  {
   "cell_type": "code",
   "execution_count": null,
   "id": "26993a11",
   "metadata": {},
   "outputs": [],
   "source": []
  }
 ],
 "metadata": {
  "kernelspec": {
   "display_name": "Python 3 (ipykernel)",
   "language": "python",
   "name": "python3"
  },
  "language_info": {
   "codemirror_mode": {
    "name": "ipython",
    "version": 3
   },
   "file_extension": ".py",
   "mimetype": "text/x-python",
   "name": "python",
   "nbconvert_exporter": "python",
   "pygments_lexer": "ipython3",
   "version": "3.11.4"
  }
 },
 "nbformat": 4,
 "nbformat_minor": 5
}
