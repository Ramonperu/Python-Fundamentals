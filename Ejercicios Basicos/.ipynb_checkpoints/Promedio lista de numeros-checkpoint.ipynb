{
 "cells": [
  {
   "cell_type": "code",
   "execution_count": 2,
   "id": "4e66162e",
   "metadata": {},
   "outputs": [
    {
     "name": "stdout",
     "output_type": "stream",
     "text": [
      "El promedio es:  27.11111111111111\n"
     ]
    }
   ],
   "source": [
    "num = [20, 1, 4, 7, 22, 35, 50, 60, 45]\n",
    "\n",
    "suma = 0\n",
    "for valor in num:\n",
    "    suma = suma + valor\n",
    "    \n",
    "cantidad_elementos = len(num) #Cuenta cuantos elementos hay en nuestra lista\n",
    "promedio = suma / cantidad_elementos\n",
    "print('El promedio es: ', promedio)\n"
   ]
  }
 ],
 "metadata": {
  "kernelspec": {
   "display_name": "Python 3 (ipykernel)",
   "language": "python",
   "name": "python3"
  },
  "language_info": {
   "codemirror_mode": {
    "name": "ipython",
    "version": 3
   },
   "file_extension": ".py",
   "mimetype": "text/x-python",
   "name": "python",
   "nbconvert_exporter": "python",
   "pygments_lexer": "ipython3",
   "version": "3.11.4"
  }
 },
 "nbformat": 4,
 "nbformat_minor": 5
}
