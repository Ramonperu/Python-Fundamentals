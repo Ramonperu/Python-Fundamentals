{
 "cells": [
  {
   "cell_type": "code",
   "execution_count": 2,
   "id": "c018c9ec",
   "metadata": {
    "scrolled": true
   },
   "outputs": [
    {
     "name": "stdout",
     "output_type": "stream",
     "text": [
      "Ingrese el ancho del rectangulo: 20\n",
      "Ingrese el alto del rectangulo: 30\n",
      "El area de su rectangulo es:  600\n"
     ]
    }
   ],
   "source": [
    "ancho = int(input('Ingrese el ancho del rectangulo: '))\n",
    "alto = int (input('Ingrese el alto del rectangulo: '))\n",
    "area = int (ancho * alto)\n",
    "print ('El area de su rectangulo es: ', area)"
   ]
  }
 ],
 "metadata": {
  "kernelspec": {
   "display_name": "Python 3 (ipykernel)",
   "language": "python",
   "name": "python3"
  },
  "language_info": {
   "codemirror_mode": {
    "name": "ipython",
    "version": 3
   },
   "file_extension": ".py",
   "mimetype": "text/x-python",
   "name": "python",
   "nbconvert_exporter": "python",
   "pygments_lexer": "ipython3",
   "version": "3.11.4"
  }
 },
 "nbformat": 4,
 "nbformat_minor": 5
}
