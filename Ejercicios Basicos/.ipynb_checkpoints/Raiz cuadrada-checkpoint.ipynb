{
 "cells": [
  {
   "cell_type": "code",
   "execution_count": 4,
   "id": "5f0ecf3c",
   "metadata": {},
   "outputs": [
    {
     "name": "stdout",
     "output_type": "stream",
     "text": [
      "Introduzca el numero al que quiere hacerle la raiz: 25\n",
      "5.0\n"
     ]
    }
   ],
   "source": [
    "from math import sqrt\n",
    "raiz = int (input ('Introduzca el numero al que quiere hacerle la raiz: '))\n",
    "print (sqrt(raiz))\n"
   ]
  },
  {
   "cell_type": "code",
   "execution_count": null,
   "id": "1cbf7a89",
   "metadata": {},
   "outputs": [],
   "source": []
  }
 ],
 "metadata": {
  "kernelspec": {
   "display_name": "Python 3 (ipykernel)",
   "language": "python",
   "name": "python3"
  },
  "language_info": {
   "codemirror_mode": {
    "name": "ipython",
    "version": 3
   },
   "file_extension": ".py",
   "mimetype": "text/x-python",
   "name": "python",
   "nbconvert_exporter": "python",
   "pygments_lexer": "ipython3",
   "version": "3.11.4"
  }
 },
 "nbformat": 4,
 "nbformat_minor": 5
}
