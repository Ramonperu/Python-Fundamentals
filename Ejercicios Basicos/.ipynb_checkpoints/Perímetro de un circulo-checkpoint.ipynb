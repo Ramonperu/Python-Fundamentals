{
 "cells": [
  {
   "cell_type": "code",
   "execution_count": 8,
   "id": "a22eef83",
   "metadata": {},
   "outputs": [
    {
     "name": "stdout",
     "output_type": "stream",
     "text": [
      "Ingrese el radio de su circunferencia: 20\n",
      "El perimetro de su circunferencia es:  125.66370614359172\n"
     ]
    }
   ],
   "source": [
    "import math\n",
    "radio = float (input ('Ingrese el radio de su circunferencia: '))\n",
    "pi = float (math.pi)\n",
    "perimetro = float (pi * 2 * radio)\n",
    "print ('El perimetro de su circunferencia es: ', perimetro )"
   ]
  }
 ],
 "metadata": {
  "kernelspec": {
   "display_name": "Python 3 (ipykernel)",
   "language": "python",
   "name": "python3"
  },
  "language_info": {
   "codemirror_mode": {
    "name": "ipython",
    "version": 3
   },
   "file_extension": ".py",
   "mimetype": "text/x-python",
   "name": "python",
   "nbconvert_exporter": "python",
   "pygments_lexer": "ipython3",
   "version": "3.11.4"
  }
 },
 "nbformat": 4,
 "nbformat_minor": 5
}
