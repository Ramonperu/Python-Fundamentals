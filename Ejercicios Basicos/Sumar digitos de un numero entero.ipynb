{
 "cells": [
  {
   "cell_type": "code",
   "execution_count": 7,
   "id": "5885881a",
   "metadata": {},
   "outputs": [
    {
     "name": "stdout",
     "output_type": "stream",
     "text": [
      "Ingresa un número entero para sumar sus digitos: 256\n",
      "La suma de los dígitos de 256 es: 13\n"
     ]
    }
   ],
   "source": [
    "numero = int(input(\"Ingresa un número entero para sumar sus digitos: \"))\n",
    "numero_cadenacaracteres = str(numero)\n",
    "suma_digitos = 0\n",
    "for digito in numero_cadenacaracteres:\n",
    "    suma_digitos += int (digito) #Hace un recorrido de la cadena y va sumando cada digito de esta\n",
    "   \n",
    "print(\"La suma de los dígitos de\", numero, \"es:\", suma_digitos)"
   ]
  },
  {
   "cell_type": "code",
   "execution_count": null,
   "id": "6bf10a73",
   "metadata": {},
   "outputs": [],
   "source": []
  }
 ],
 "metadata": {
  "kernelspec": {
   "display_name": "Python 3 (ipykernel)",
   "language": "python",
   "name": "python3"
  },
  "language_info": {
   "codemirror_mode": {
    "name": "ipython",
    "version": 3
   },
   "file_extension": ".py",
   "mimetype": "text/x-python",
   "name": "python",
   "nbconvert_exporter": "python",
   "pygments_lexer": "ipython3",
   "version": "3.11.4"
  }
 },
 "nbformat": 4,
 "nbformat_minor": 5
}
