{
 "cells": [
  {
   "cell_type": "code",
   "execution_count": 2,
   "id": "b2e5c82e",
   "metadata": {},
   "outputs": [
    {
     "name": "stdout",
     "output_type": "stream",
     "text": [
      "Introduzca los grados Celsius para transformarlos a Fahrenheit20\n",
      "68.0\n"
     ]
    }
   ],
   "source": [
    "celsius = float (input ('Introduzca los grados Celsius para transformarlos a Fahrenheit'))\n",
    "fahrenheit = float ( (celsius * 1.8)+32)\n",
    "print (fahrenheit)"
   ]
  },
  {
   "cell_type": "code",
   "execution_count": null,
   "id": "280dd8db",
   "metadata": {},
   "outputs": [],
   "source": []
  }
 ],
 "metadata": {
  "kernelspec": {
   "display_name": "Python 3 (ipykernel)",
   "language": "python",
   "name": "python3"
  },
  "language_info": {
   "codemirror_mode": {
    "name": "ipython",
    "version": 3
   },
   "file_extension": ".py",
   "mimetype": "text/x-python",
   "name": "python",
   "nbconvert_exporter": "python",
   "pygments_lexer": "ipython3",
   "version": "3.11.4"
  }
 },
 "nbformat": 4,
 "nbformat_minor": 5
}
