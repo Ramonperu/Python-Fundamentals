{
 "cells": [
  {
   "cell_type": "code",
   "execution_count": 2,
   "id": "47041b19",
   "metadata": {},
   "outputs": [],
   "source": [
    "mylist = [1,2,3,4]"
   ]
  },
  {
   "cell_type": "code",
   "execution_count": 5,
   "id": "1d2125f1",
   "metadata": {},
   "outputs": [
    {
     "name": "stdout",
     "output_type": "stream",
     "text": [
      "[1, False, 'cadena1', 'cadena2']\n"
     ]
    }
   ],
   "source": [
    "mylist2 = [1, False, 'cadena1', 'cadena2']\n",
    "print(mylist2)"
   ]
  },
  {
   "cell_type": "code",
   "execution_count": 6,
   "id": "fcc233e5",
   "metadata": {},
   "outputs": [
    {
     "name": "stdout",
     "output_type": "stream",
     "text": [
      "[[[1, False, 'cadena1', 'cadena2']], [[1, 2, 3, 4]]]\n"
     ]
    }
   ],
   "source": [
    "mylist3 = [[mylist2], [mylist]]\n",
    "print(mylist3)"
   ]
  },
  {
   "cell_type": "code",
   "execution_count": 7,
   "id": "94cce0fc",
   "metadata": {},
   "outputs": [
    {
     "data": {
      "text/plain": [
       "2"
      ]
     },
     "execution_count": 7,
     "metadata": {},
     "output_type": "execute_result"
    }
   ],
   "source": [
    "len(mylist3)"
   ]
  },
  {
   "cell_type": "code",
   "execution_count": 3,
   "id": "6631c0c8",
   "metadata": {},
   "outputs": [
    {
     "name": "stdout",
     "output_type": "stream",
     "text": [
      "{1, 2, 3, 4, 5}\n"
     ]
    }
   ],
   "source": [
    "myset1 = {1,2,3,4,5}\n",
    "print(myset1)"
   ]
  },
  {
   "cell_type": "code",
   "execution_count": 4,
   "id": "60e9741d",
   "metadata": {},
   "outputs": [
    {
     "data": {
      "text/plain": [
       "set"
      ]
     },
     "execution_count": 4,
     "metadata": {},
     "output_type": "execute_result"
    }
   ],
   "source": [
    "type(myset1)"
   ]
  },
  {
   "cell_type": "code",
   "execution_count": 5,
   "id": "1995fa04",
   "metadata": {},
   "outputs": [
    {
     "data": {
      "text/plain": [
       "5"
      ]
     },
     "execution_count": 5,
     "metadata": {},
     "output_type": "execute_result"
    }
   ],
   "source": [
    "len(myset1)"
   ]
  },
  {
   "cell_type": "code",
   "execution_count": 6,
   "id": "499ad8f4",
   "metadata": {},
   "outputs": [
    {
     "data": {
      "text/plain": [
       "3"
      ]
     },
     "execution_count": 6,
     "metadata": {},
     "output_type": "execute_result"
    }
   ],
   "source": [
    "myset2 = {44,44,52,52,54}\n",
    "len(myset2)"
   ]
  },
  {
   "cell_type": "code",
   "execution_count": 7,
   "id": "798a7931",
   "metadata": {},
   "outputs": [
    {
     "name": "stdout",
     "output_type": "stream",
     "text": [
      "{44, 54, 52}\n"
     ]
    }
   ],
   "source": [
    "print(myset2)"
   ]
  },
  {
   "cell_type": "code",
   "execution_count": 8,
   "id": "8a5fa186",
   "metadata": {},
   "outputs": [
    {
     "data": {
      "text/plain": [
       "True"
      ]
     },
     "execution_count": 8,
     "metadata": {},
     "output_type": "execute_result"
    }
   ],
   "source": [
    "{1,2,3,4} == {4,4,4,4,4,2,3,1,1}"
   ]
  },
  {
   "cell_type": "code",
   "execution_count": 9,
   "id": "c6d6b063",
   "metadata": {},
   "outputs": [
    {
     "data": {
      "text/plain": [
       "4"
      ]
     },
     "execution_count": 9,
     "metadata": {},
     "output_type": "execute_result"
    }
   ],
   "source": [
    "mitupla = (1,2,3,4)\n",
    "len(mitupla)"
   ]
  },
  {
   "cell_type": "code",
   "execution_count": 12,
   "id": "adda8746",
   "metadata": {},
   "outputs": [
    {
     "data": {
      "text/plain": [
       "False"
      ]
     },
     "execution_count": 12,
     "metadata": {},
     "output_type": "execute_result"
    }
   ],
   "source": [
    "(2,1,3) == (3,2,1)"
   ]
  },
  {
   "cell_type": "code",
   "execution_count": 13,
   "id": "18f740b4",
   "metadata": {},
   "outputs": [],
   "source": [
    "list2 = [1,2]"
   ]
  },
  {
   "cell_type": "code",
   "execution_count": 14,
   "id": "165ecb72",
   "metadata": {},
   "outputs": [],
   "source": [
    "list2.append(3)"
   ]
  },
  {
   "cell_type": "code",
   "execution_count": 15,
   "id": "793d2467",
   "metadata": {},
   "outputs": [
    {
     "name": "stdout",
     "output_type": "stream",
     "text": [
      "[1, 2, 3]\n"
     ]
    }
   ],
   "source": [
    "print(list2)"
   ]
  },
  {
   "cell_type": "code",
   "execution_count": 2,
   "id": "1fc5267c",
   "metadata": {},
   "outputs": [
    {
     "ename": "NameError",
     "evalue": "name 'mitupla' is not defined",
     "output_type": "error",
     "traceback": [
      "\u001b[1;31m---------------------------------------------------------------------------\u001b[0m",
      "\u001b[1;31mNameError\u001b[0m                                 Traceback (most recent call last)",
      "Cell \u001b[1;32mIn[2], line 1\u001b[0m\n\u001b[1;32m----> 1\u001b[0m \u001b[43mmitupla\u001b[49m\u001b[38;5;241m.\u001b[39mappend(\u001b[38;5;241m5\u001b[39m)\n",
      "\u001b[1;31mNameError\u001b[0m: name 'mitupla' is not defined"
     ]
    }
   ],
   "source": [
    "mitupla.append(5)"
   ]
  },
  {
   "cell_type": "code",
   "execution_count": 4,
   "id": "d72f67d1",
   "metadata": {
    "scrolled": true
   },
   "outputs": [],
   "source": [
    "mi_diccionario = {\n",
    "    'manzana' : 'Fruta verde',\n",
    "    'platano' : 'Fruta amarilla'\n",
    "}"
   ]
  },
  {
   "cell_type": "code",
   "execution_count": 5,
   "id": "7c4fef82",
   "metadata": {
    "scrolled": true
   },
   "outputs": [
    {
     "data": {
      "text/plain": [
       "'Fruta verde'"
      ]
     },
     "execution_count": 5,
     "metadata": {},
     "output_type": "execute_result"
    }
   ],
   "source": [
    "mi_diccionario['manzana']"
   ]
  },
  {
   "cell_type": "code",
   "execution_count": 6,
   "id": "cf340fef",
   "metadata": {},
   "outputs": [],
   "source": [
    "mi_diccionario = {\n",
    "    'manzana' : 'Fruta verde',\n",
    "    'platano' : 'Fruta amarilla',\n",
    "    'manzana' : 'Fruta roja y verde'\n",
    "}"
   ]
  },
  {
   "cell_type": "code",
   "execution_count": 7,
   "id": "a96a6777",
   "metadata": {},
   "outputs": [
    {
     "data": {
      "text/plain": [
       "'Fruta roja y verde'"
      ]
     },
     "execution_count": 7,
     "metadata": {},
     "output_type": "execute_result"
    }
   ],
   "source": [
    "mi_diccionario['manzana']"
   ]
  },
  {
   "cell_type": "code",
   "execution_count": 6,
   "id": "8daeb591",
   "metadata": {},
   "outputs": [
    {
     "name": "stdout",
     "output_type": "stream",
     "text": [
      "Es cierto que ramon esta programando\n",
      "Julio y ramon estan programando\n",
      "Todos estan programando\n"
     ]
    }
   ],
   "source": [
    "ramonestaprogramando = True\n",
    "julioestaprogramando = True\n",
    "anaestaprogramando = True\n",
    "if ramonestaprogramando:\n",
    "    print ('Es cierto que ramon esta programando')\n",
    "    if julioestaprogramando:\n",
    "        print ('Julio y ramon estan programando')\n",
    "        if anaestaprogramando:\n",
    "            print ('Todos estan programando')\n",
    "else: \n",
    "    print ('Es falso que ramon esta programando')"
   ]
  },
  {
   "cell_type": "code",
   "execution_count": 8,
   "id": "eadaa093",
   "metadata": {},
   "outputs": [
    {
     "name": "stdout",
     "output_type": "stream",
     "text": [
      "manzana\n",
      "pera\n",
      "platano\n",
      "melocoton\n"
     ]
    }
   ],
   "source": [
    "a = ['manzana', 'pera', 'platano', 'melocoton']\n",
    "for fruta in a:\n",
    "    print (fruta)"
   ]
  },
  {
   "cell_type": "code",
   "execution_count": 10,
   "id": "f6e67790",
   "metadata": {},
   "outputs": [
    {
     "name": "stdout",
     "output_type": "stream",
     "text": [
      "1\n",
      "2\n",
      "3\n"
     ]
    }
   ],
   "source": [
    "a = [1,2,3]\n",
    "for fruta in a:\n",
    "    print (fruta)"
   ]
  },
  {
   "cell_type": "code",
   "execution_count": 12,
   "id": "ff8d4117",
   "metadata": {},
   "outputs": [
    {
     "name": "stdout",
     "output_type": "stream",
     "text": [
      "10\n",
      "20\n",
      "30\n",
      "40\n"
     ]
    }
   ],
   "source": [
    "a = 10\n",
    "while a < 50:\n",
    "    print(a)\n",
    "    a = a + 10"
   ]
  },
  {
   "cell_type": "code",
   "execution_count": 1,
   "id": "2cfc5684",
   "metadata": {},
   "outputs": [],
   "source": [
    "def multiplicarpor10(val):\n",
    "    return 10 * val\n"
   ]
  },
  {
   "cell_type": "code",
   "execution_count": 2,
   "id": "8381493f",
   "metadata": {},
   "outputs": [
    {
     "data": {
      "text/plain": [
       "500"
      ]
     },
     "execution_count": 2,
     "metadata": {},
     "output_type": "execute_result"
    }
   ],
   "source": [
    "multiplicarpor10(50)"
   ]
  },
  {
   "cell_type": "code",
   "execution_count": 9,
   "id": "abaa4fcd",
   "metadata": {},
   "outputs": [],
   "source": [
    "a = [1,2,3,4,6,8,9]\n",
    "def añadirnum7(milista1):\n",
    "    milista1.append(7)"
   ]
  },
  {
   "cell_type": "code",
   "execution_count": 10,
   "id": "fb285c43",
   "metadata": {},
   "outputs": [
    {
     "name": "stdout",
     "output_type": "stream",
     "text": [
      "[1, 2, 3, 4, 6, 8, 9, 7]\n"
     ]
    }
   ],
   "source": [
    "añadirnum7(a)\n",
    "print(a)"
   ]
  },
  {
   "cell_type": "code",
   "execution_count": 11,
   "id": "0963e9e4",
   "metadata": {},
   "outputs": [
    {
     "ename": "SyntaxError",
     "evalue": "incomplete input (1502192947.py, line 1)",
     "output_type": "error",
     "traceback": [
      "\u001b[1;36m  Cell \u001b[1;32mIn[11], line 1\u001b[1;36m\u001b[0m\n\u001b[1;33m    class Perro:\u001b[0m\n\u001b[1;37m                ^\u001b[0m\n\u001b[1;31mSyntaxError\u001b[0m\u001b[1;31m:\u001b[0m incomplete input\n"
     ]
    }
   ],
   "source": [
    "class Perro:"
   ]
  },
  {
   "cell_type": "code",
   "execution_count": 40,
   "id": "c97e35da",
   "metadata": {},
   "outputs": [],
   "source": [
    "class Perro:\n",
    "    def __init__(yo, name, color):\n",
    "        yo.name = name\n",
    "        yo.color = color\n",
    "        yo.legs = 4\n",
    "    def speak(yo):\n",
    "        print('The ' + yo.color + ' dog ' + yo.name + ' says: Woof Woof!')"
   ]
  },
  {
   "cell_type": "code",
   "execution_count": 46,
   "id": "034bd4c1",
   "metadata": {},
   "outputs": [],
   "source": [
    "perro = Perro('Tobi', 'brown')"
   ]
  },
  {
   "cell_type": "code",
   "execution_count": 47,
   "id": "54e48e04",
   "metadata": {},
   "outputs": [],
   "source": [
    "perro2 = Perro('Jackie', 'black')"
   ]
  },
  {
   "cell_type": "code",
   "execution_count": 48,
   "id": "8244e4b5",
   "metadata": {},
   "outputs": [
    {
     "name": "stdout",
     "output_type": "stream",
     "text": [
      "The brown dog Tobi says: Woof Woof!\n"
     ]
    }
   ],
   "source": [
    "perro.speak()"
   ]
  },
  {
   "cell_type": "code",
   "execution_count": 49,
   "id": "612d925b",
   "metadata": {},
   "outputs": [
    {
     "name": "stdout",
     "output_type": "stream",
     "text": [
      "The black dog Jackie says: Woof Woof!\n"
     ]
    }
   ],
   "source": [
    "perro2.speak()"
   ]
  },
  {
   "cell_type": "code",
   "execution_count": null,
   "id": "5015b872",
   "metadata": {},
   "outputs": [],
   "source": []
  }
 ],
 "metadata": {
  "kernelspec": {
   "display_name": "Python 3 (ipykernel)",
   "language": "python",
   "name": "python3"
  },
  "language_info": {
   "codemirror_mode": {
    "name": "ipython",
    "version": 3
   },
   "file_extension": ".py",
   "mimetype": "text/x-python",
   "name": "python",
   "nbconvert_exporter": "python",
   "pygments_lexer": "ipython3",
   "version": "3.11.4"
  }
 },
 "nbformat": 4,
 "nbformat_minor": 5
}
